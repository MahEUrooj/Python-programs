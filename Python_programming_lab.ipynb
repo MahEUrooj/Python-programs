{
  "cells": [
    {
      "cell_type": "code",
      "execution_count": null,
      "metadata": {
        "id": "5UCPLYRdOSTC",
        "outputId": "88c220be-e094-4fae-8a0d-57737e4c02e0"
      },
      "outputs": [
        {
          "name": "stdout",
          "output_type": "stream",
          "text": [
            "Enter first number: 9\n",
            "Enter second number: 89\n",
            "Enter third number: 9\n",
            "The first number is:  -0.10217938930779585\n",
            "The second numbetr is:  -9.786709499581093\n"
          ]
        }
      ],
      "source": [
        "import math\n",
        "a=int(input(\"Enter first number: \"))\n",
        "b=int(input(\"Enter second number: \"))\n",
        "c=int(input(\"Enter third number: \"))\n",
        "D=pow(b,2)-4*a*c\n",
        "x1=(-b+math.sqrt(D))/(2*a)\n",
        "x2=(-b-math.sqrt(D))/(2*a)\n",
        "print(\"The first number is: \",x1)\n",
        "print(\"The second numbetr is: \",x2)"
      ]
    },
    {
      "cell_type": "code",
      "execution_count": null,
      "metadata": {
        "id": "glawF4SnOSTF",
        "outputId": "d69f495a-9865-40a3-9cec-6be6ad81c2f9"
      },
      "outputs": [
        {
          "name": "stdout",
          "output_type": "stream",
          "text": [
            "THIS IS A CAR\n"
          ]
        }
      ],
      "source": [
        "print(\"this is a car\". upper())\n",
        "\n"
      ]
    },
    {
      "cell_type": "code",
      "execution_count": null,
      "metadata": {
        "id": "BPGzVAr_OSTG",
        "outputId": "c7f5b54e-cbf4-4318-f59d-4ae68bedff0b"
      },
      "outputs": [
        {
          "name": "stdout",
          "output_type": "stream",
          "text": [
            "this is seashore\n"
          ]
        }
      ],
      "source": [
        "print(\"This is seashore\".lower())"
      ]
    },
    {
      "cell_type": "code",
      "execution_count": null,
      "metadata": {
        "id": "wkxDuuEQOSTG",
        "outputId": "a92e1a12-208c-450c-ab65-606ab3cd0045"
      },
      "outputs": [
        {
          "name": "stdout",
          "output_type": "stream",
          "text": [
            "I like to play cards\n"
          ]
        }
      ],
      "source": [
        "print(\"i like to play cards\".capitalize())"
      ]
    },
    {
      "cell_type": "code",
      "execution_count": null,
      "metadata": {
        "id": "-d9S_uz4OSTH",
        "outputId": "b40104a4-bf0e-4a89-bc12-188981069d95"
      },
      "outputs": [
        {
          "name": "stdout",
          "output_type": "stream",
          "text": [
            "Hello\n",
            "World\n"
          ]
        }
      ],
      "source": [
        "print(\"Hello\\nWorld\")"
      ]
    },
    {
      "cell_type": "code",
      "execution_count": null,
      "metadata": {
        "id": "AF8uOmZ7OSTH",
        "outputId": "fe4ac4d2-12cf-430c-8419-b8cc37c01e33"
      },
      "outputs": [
        {
          "name": "stdout",
          "output_type": "stream",
          "text": [
            "Sir \t\t Syed University\n"
          ]
        }
      ],
      "source": [
        "print(\"Sir \\t\\t Syed University\")"
      ]
    },
    {
      "cell_type": "code",
      "execution_count": null,
      "metadata": {
        "id": "V_6eA3wFOSTI",
        "outputId": "c1f2d4ae-8f4c-4d9c-aa9e-5a79877e8247"
      },
      "outputs": [
        {
          "name": "stdout",
          "output_type": "stream",
          "text": [
            "Comoputer \r",
            " Science\n"
          ]
        }
      ],
      "source": [
        "print(\"Comoputer \\r Science\")"
      ]
    },
    {
      "cell_type": "code",
      "execution_count": null,
      "metadata": {
        "id": "PAySAiwnOSTI",
        "outputId": "1c21801d-24c2-4881-9338-b504a6e4e645"
      },
      "outputs": [
        {
          "name": "stdout",
          "output_type": "stream",
          "text": [
            "My name is:  Urooj\n"
          ]
        }
      ],
      "source": [
        "name=\"Urooj\"\n",
        "print(\"My name is: \",name.title())\n"
      ]
    },
    {
      "cell_type": "code",
      "execution_count": null,
      "metadata": {
        "id": "UdhuX2-yOSTJ",
        "outputId": "6e3dd20d-c511-41ee-9bf9-b54ce10acd95"
      },
      "outputs": [
        {
          "name": "stdout",
          "output_type": "stream",
          "text": [
            "Twinkle, twinkle, little star, \n",
            "\tHow I wonder what you are! \n",
            "\t\tUp above the world so high, \n",
            "\t\tLike a diamond in the sky. \n",
            "Twinkle, twinkle, little star, \n",
            "\tHow I wonder what you are\n"
          ]
        }
      ],
      "source": [
        "poem= \"Twinkle, twinkle, little star, \\n\\tHow I wonder what you are! \\n\\t\\tUp above the world so high, \\n\\t\\tLike a diamond in the sky. \\nTwinkle, twinkle, little star, \\n\\tHow I wonder what you are\"\n",
        "print(poem)"
      ]
    },
    {
      "cell_type": "code",
      "execution_count": null,
      "metadata": {
        "id": "Uv5AXjYYOSTJ",
        "outputId": "9557e732-84b1-4a4a-b9e5-e897da70db3f",
        "colab": {
          "base_uri": "https://localhost:8080/"
        }
      },
      "outputs": [
        {
          "output_type": "stream",
          "name": "stdout",
          "text": [
            "Enter any number: 4\n",
            "Area of circle is 50.272 Square m\n"
          ]
        }
      ],
      "source": [
        "r=int(input(\"Enter any number: \"))\n",
        "A=3.142*pow(r,2)\n",
        "print(\"Area of circle is\",A,\"Square m\")"
      ]
    },
    {
      "cell_type": "code",
      "execution_count": null,
      "metadata": {
        "id": "pZ4Jl3o4OSTK",
        "outputId": "26431773-f495-4ac5-dddf-8313730e1da2"
      },
      "outputs": [
        {
          "name": "stdout",
          "output_type": "stream",
          "text": [
            "Your first namek\n",
            "Your sur namel\n",
            "Full name is:  l k\n"
          ]
        }
      ],
      "source": [
        "first_name= input(\"Your first name\")\n",
        "Sur_name= input(\"Your sur name\")\n",
        "Full_name=first_name+Sur_name\n",
        "print(\"Full name is: \", Sur_name, first_name)\n",
        "\n",
        "\n"
      ]
    },
    {
      "cell_type": "code",
      "execution_count": null,
      "metadata": {
        "id": "TmmLd8xmOSTK",
        "outputId": "68c9f350-739f-4dda-8a69-0f0adccb9f8d"
      },
      "outputs": [
        {
          "ename": "SyntaxError",
          "evalue": "unexpected EOF while parsing (<ipython-input-12-9525ca3b857e>, line 2)",
          "output_type": "error",
          "traceback": [
            "\u001b[1;36m  File \u001b[1;32m\"<ipython-input-12-9525ca3b857e>\"\u001b[1;36m, line \u001b[1;32m2\u001b[0m\n\u001b[1;33m    print(\"%s %s\" %(list_colors[0],list_colors[-1])\u001b[0m\n\u001b[1;37m                                                   ^\u001b[0m\n\u001b[1;31mSyntaxError\u001b[0m\u001b[1;31m:\u001b[0m unexpected EOF while parsing\n"
          ]
        }
      ],
      "source": [
        "list_colors=[\"White\", \"Blue\", \"Black\", \"Red\"]\n",
        "print(\"%s %s\" %(list_colors[0],list_colors[-1])"
      ]
    },
    {
      "cell_type": "code",
      "execution_count": null,
      "metadata": {
        "id": "G5st2DUVOSTL",
        "outputId": "eeeeda45-a8e9-467d-f3ad-4d25541a559f"
      },
      "outputs": [
        {
          "name": "stdout",
          "output_type": "stream",
          "text": [
            "White Red\n"
          ]
        }
      ],
      "source": [
        "list_colors=[\"White\", \"Blue\", \"Black\", \"Red\"]\n",
        "print(\"%s %s\" %(list_colors[0],list_colors[-1]))"
      ]
    },
    {
      "cell_type": "code",
      "execution_count": null,
      "metadata": {
        "id": "02w3puEtOSTL",
        "outputId": "fa83ee80-78bc-4cbc-8f65-fcbf1b599e07"
      },
      "outputs": [
        {
          "name": "stdout",
          "output_type": "stream",
          "text": [
            "Enter an integer3\n",
            "Value is:  39\n"
          ]
        }
      ],
      "source": [
        "n=int(input(\"Enter an integer\"))\n",
        "value=n+n*n+n*n*n\n",
        "print(\"Value is: \",value)"
      ]
    },
    {
      "cell_type": "code",
      "execution_count": null,
      "metadata": {
        "id": "urW8ooWWOSTM",
        "outputId": "dbd94e43-0c8d-49c0-bdc5-69c80c65be81",
        "colab": {
          "base_uri": "https://localhost:8080/"
        }
      },
      "outputs": [
        {
          "output_type": "stream",
          "name": "stdout",
          "text": [
            "Volume of sphere is:  904.896 Cubic m\n"
          ]
        }
      ],
      "source": [
        "V=4/3*3.142*pow(6,3)\n",
        "print(\"Volume of sphere is: \",V,\"Cubic m\")"
      ]
    },
    {
      "cell_type": "code",
      "execution_count": null,
      "metadata": {
        "collapsed": true,
        "id": "I0kMyJ9nOSTM",
        "colab": {
          "base_uri": "https://localhost:8080/"
        },
        "outputId": "a60815e0-c6c3-4492-9193-c49cfce4228f"
      },
      "outputs": [
        {
          "output_type": "stream",
          "name": "stdout",
          "text": [
            "Enter any name: Cinderella\n",
            "name=  Cinderella\n",
            "HelloCinderella!!\n"
          ]
        }
      ],
      "source": [
        "name=input(\"Enter any name: \")\n",
        "print(\"name= \", name)\n",
        "print(\"Hello\"+name+\"!!\")"
      ]
    },
    {
      "cell_type": "code",
      "source": [
        "word1=input(\"Enter first word\")\n",
        "word2=input(\"Enter second word\")\n",
        "print(word1+word2+word2+word1)\n",
        "\n"
      ],
      "metadata": {
        "colab": {
          "base_uri": "https://localhost:8080/"
        },
        "id": "4PUCojLMGHgv",
        "outputId": "633ddd4b-6e99-4bba-9340-d1c4bb9eb19a"
      },
      "execution_count": null,
      "outputs": [
        {
          "output_type": "stream",
          "name": "stdout",
          "text": [
            "Enter first wordRed\n",
            "Enter second wordRose\n",
            "RedRoseRoseRed\n"
          ]
        }
      ]
    },
    {
      "cell_type": "code",
      "source": [
        "name=input(\"Enter any name: \")\n",
        "print(\"Hello\"+name+\"!!\")"
      ],
      "metadata": {
        "colab": {
          "base_uri": "https://localhost:8080/"
        },
        "id": "f68z2spYIAO4",
        "outputId": "b0301d76-0725-44b9-b1e9-dc7a575e976b"
      },
      "execution_count": null,
      "outputs": [
        {
          "output_type": "stream",
          "name": "stdout",
          "text": [
            "Enter any name: Adeel\n",
            "HelloAdeel!!\n"
          ]
        }
      ]
    },
    {
      "cell_type": "code",
      "source": [
        "quote=input(\"Enter a word: \")\n",
        "print(\"quote= \", quote)\n",
        "print(quote[6:8]*3)\n"
      ],
      "metadata": {
        "colab": {
          "base_uri": "https://localhost:8080/"
        },
        "id": "hb3aMOlYIQUh",
        "outputId": "e4b48e17-7049-4edc-bc58-adc2bb178f84"
      },
      "execution_count": null,
      "outputs": [
        {
          "output_type": "stream",
          "name": "stdout",
          "text": [
            "Enter a word: Pakistan\n",
            "quote=  Pakistan\n",
            "ananan\n"
          ]
        }
      ]
    },
    {
      "cell_type": "code",
      "source": [
        "sent=input(\"Enter a word: \")\n",
        "print(\"sent= \",sent)\n",
        "print(sent.replace(' ',''))"
      ],
      "metadata": {
        "colab": {
          "base_uri": "https://localhost:8080/"
        },
        "id": "1Lfks6Y3Jq8C",
        "outputId": "cf54a53b-0b6a-4ffd-dead-09cce7a96450"
      },
      "execution_count": null,
      "outputs": [
        {
          "output_type": "stream",
          "name": "stdout",
          "text": [
            "Enter a word: This is an interesting story-book.\n",
            "sent=  This is an interesting story-book.\n",
            "Thisisaninterestingstory-book.\n"
          ]
        }
      ]
    },
    {
      "cell_type": "code",
      "source": [
        "print(\"Hello world\")"
      ],
      "metadata": {
        "colab": {
          "base_uri": "https://localhost:8080/"
        },
        "id": "R24HuGQFKKp4",
        "outputId": "e18499e8-654b-4e70-d584-1bccceab6f41"
      },
      "execution_count": null,
      "outputs": [
        {
          "output_type": "stream",
          "name": "stdout",
          "text": [
            "Hello world\n"
          ]
        }
      ]
    },
    {
      "cell_type": "code",
      "source": [
        "'''\n",
        "a\n",
        "print(\"IOT\")\n",
        "b\n",
        "c\n",
        "'''\n",
        "print(\"Hello, world!\")"
      ],
      "metadata": {
        "colab": {
          "base_uri": "https://localhost:8080/"
        },
        "id": "if1VsCTZKj2C",
        "outputId": "8b7a2a44-6cf9-41ab-d024-ae791b907622"
      },
      "execution_count": null,
      "outputs": [
        {
          "output_type": "stream",
          "name": "stdout",
          "text": [
            "Hello, world!\n"
          ]
        }
      ]
    },
    {
      "cell_type": "code",
      "source": [
        "colors=[\"white\",\"black\",\"margenda\",\"pink\",\"red\",\"yellow\"]\n",
        "colors[4]"
      ],
      "metadata": {
        "colab": {
          "base_uri": "https://localhost:8080/",
          "height": 35
        },
        "id": "d42ps_PXPw-r",
        "outputId": "df3a23b1-dcdf-4e73-a146-e809cdca317f"
      },
      "execution_count": null,
      "outputs": [
        {
          "output_type": "execute_result",
          "data": {
            "text/plain": [
              "'red'"
            ],
            "application/vnd.google.colaboratory.intrinsic+json": {
              "type": "string"
            }
          },
          "metadata": {},
          "execution_count": 37
        }
      ]
    },
    {
      "cell_type": "code",
      "source": [
        "biodata=[\"Adeel\", 33, \"IOT\", \"Section A\"]\n",
        "biodata[2]"
      ],
      "metadata": {
        "colab": {
          "base_uri": "https://localhost:8080/",
          "height": 35
        },
        "id": "tapfiu1_Rb9T",
        "outputId": "450536d5-6706-4fe4-b617-116c45302e08"
      },
      "execution_count": null,
      "outputs": [
        {
          "output_type": "execute_result",
          "data": {
            "text/plain": [
              "'IOT'"
            ],
            "application/vnd.google.colaboratory.intrinsic+json": {
              "type": "string"
            }
          },
          "metadata": {},
          "execution_count": 38
        }
      ]
    },
    {
      "cell_type": "code",
      "source": [
        "student1=[\"Ali\", 22, \"IOT\", \"Section A\"]\n",
        "student1[-3]"
      ],
      "metadata": {
        "colab": {
          "base_uri": "https://localhost:8080/"
        },
        "id": "kAA-vFrnTsNk",
        "outputId": "68532609-9998-46c8-848e-2df5eae85da6"
      },
      "execution_count": null,
      "outputs": [
        {
          "output_type": "execute_result",
          "data": {
            "text/plain": [
              "22"
            ]
          },
          "metadata": {},
          "execution_count": 39
        }
      ]
    },
    {
      "cell_type": "code",
      "source": [
        "print(\"Student 1 name is \", student1[0])"
      ],
      "metadata": {
        "colab": {
          "base_uri": "https://localhost:8080/"
        },
        "id": "WIKLGHXsT6TI",
        "outputId": "f2db78ab-2c56-4f9c-c92b-180374205de4"
      },
      "execution_count": null,
      "outputs": [
        {
          "output_type": "stream",
          "name": "stdout",
          "text": [
            "Student 1 name is  Ali\n"
          ]
        }
      ]
    },
    {
      "cell_type": "code",
      "source": [
        "biodata[:]"
      ],
      "metadata": {
        "colab": {
          "base_uri": "https://localhost:8080/"
        },
        "id": "R2oXKJ4PUK1_",
        "outputId": "62209656-4b8c-43c5-989d-d15fdbb024e5"
      },
      "execution_count": null,
      "outputs": [
        {
          "output_type": "execute_result",
          "data": {
            "text/plain": [
              "['Adeel', 33, 'IOT', 'Section A']"
            ]
          },
          "metadata": {},
          "execution_count": 41
        }
      ]
    },
    {
      "cell_type": "code",
      "source": [
        "fruits=[\"banana\",\"apple\",\"guava\",\"Straw-berry\"]\n",
        "fruits.append(\"mango\")\n",
        "fruits[:]"
      ],
      "metadata": {
        "colab": {
          "base_uri": "https://localhost:8080/"
        },
        "id": "xOHKkNgVVsXk",
        "outputId": "3c13d0ee-71a0-40ec-bdd7-460525f0db2f"
      },
      "execution_count": null,
      "outputs": [
        {
          "output_type": "execute_result",
          "data": {
            "text/plain": [
              "['banana', 'apple', 'guava', 'Straw-berry', 'mango']"
            ]
          },
          "metadata": {},
          "execution_count": 49
        }
      ]
    },
    {
      "cell_type": "code",
      "source": [
        "cities=[\"Karachi\",\"Lahore\",\"Quetta\",\"Faisalabad\"]\n",
        "cities.insert(0,\"Murree\")\n",
        "cities[:]"
      ],
      "metadata": {
        "colab": {
          "base_uri": "https://localhost:8080/"
        },
        "id": "UJqPVQLlV_mD",
        "outputId": "f3cac0ec-1e22-4294-aadf-8788d901c5e1"
      },
      "execution_count": null,
      "outputs": [
        {
          "output_type": "execute_result",
          "data": {
            "text/plain": [
              "['Murree', 'Karachi', 'Lahore', 'Quetta', 'Faisalabad']"
            ]
          },
          "metadata": {},
          "execution_count": 58
        }
      ]
    },
    {
      "cell_type": "code",
      "source": [
        "fruits[2:5]\n"
      ],
      "metadata": {
        "colab": {
          "base_uri": "https://localhost:8080/"
        },
        "id": "Y2N7tuHHYD6M",
        "outputId": "f144a2f5-54f7-40c8-fc1b-54b8645ece5d"
      },
      "execution_count": null,
      "outputs": [
        {
          "output_type": "execute_result",
          "data": {
            "text/plain": [
              "['mango', 'banana', 'apple']"
            ]
          },
          "metadata": {},
          "execution_count": 55
        }
      ]
    },
    {
      "cell_type": "code",
      "source": [
        "vege=[\"beetroot\",\"turnip\",\"onion\",\"potato\"]\n",
        "vege[1:3]"
      ],
      "metadata": {
        "colab": {
          "base_uri": "https://localhost:8080/"
        },
        "id": "49aKBJMZZUH-",
        "outputId": "2596d599-b269-4ead-c171-f723157f6133"
      },
      "execution_count": null,
      "outputs": [
        {
          "output_type": "execute_result",
          "data": {
            "text/plain": [
              "['turnip', 'onion']"
            ]
          },
          "metadata": {},
          "execution_count": 81
        }
      ]
    },
    {
      "cell_type": "code",
      "source": [
        "vege.reverse()\n",
        "vege[:]\n"
      ],
      "metadata": {
        "colab": {
          "base_uri": "https://localhost:8080/"
        },
        "id": "t8ZnjnzCZjXX",
        "outputId": "badd9be8-2f69-485e-86d8-c9531de85aa7"
      },
      "execution_count": null,
      "outputs": [
        {
          "output_type": "execute_result",
          "data": {
            "text/plain": [
              "['potato', 'onion', 'turnip', 'beetroot']"
            ]
          },
          "metadata": {},
          "execution_count": 88
        }
      ]
    },
    {
      "cell_type": "code",
      "source": [
        "cities=[\"Karachi\",\"Islamabad\",\"Lahore\",\"Quetta\",\"Murree\",\"Sialkot\",\"Kalam\"]\n",
        "del cities[2]\n",
        "cities[:]\n"
      ],
      "metadata": {
        "colab": {
          "base_uri": "https://localhost:8080/"
        },
        "id": "ifFcH1ZUdi5k",
        "outputId": "1709e2b2-cf89-4f7d-bd51-2f814114cf05"
      },
      "execution_count": null,
      "outputs": [
        {
          "output_type": "execute_result",
          "data": {
            "text/plain": [
              "['Karachi', 'Islamabad', 'Quetta', 'Murree', 'Sialkot', 'Kalam']"
            ]
          },
          "metadata": {},
          "execution_count": 101
        }
      ]
    },
    {
      "cell_type": "code",
      "source": [
        "del cities[3]\n",
        "cities[:]"
      ],
      "metadata": {
        "colab": {
          "base_uri": "https://localhost:8080/"
        },
        "id": "5V-r5sf2exsD",
        "outputId": "c18040e7-0936-4cd5-dd46-4582e71b4c4f"
      },
      "execution_count": null,
      "outputs": [
        {
          "output_type": "execute_result",
          "data": {
            "text/plain": [
              "['Karachi', 'Islamabad', 'Quetta', 'Sialkot', 'Kalam']"
            ]
          },
          "metadata": {},
          "execution_count": 102
        }
      ]
    },
    {
      "cell_type": "code",
      "source": [
        "cities[:]"
      ],
      "metadata": {
        "colab": {
          "base_uri": "https://localhost:8080/"
        },
        "id": "-ABzBbq5gxVZ",
        "outputId": "06770a92-d6ac-4beb-faf0-f29957461a10"
      },
      "execution_count": null,
      "outputs": [
        {
          "output_type": "execute_result",
          "data": {
            "text/plain": [
              "['Karachi', 'Islamabad', 'Quetta', 'Kalam']"
            ]
          },
          "metadata": {},
          "execution_count": 107
        }
      ]
    },
    {
      "cell_type": "code",
      "source": [
        "cities.remove(\"Quetta\")\n",
        "cities[:]"
      ],
      "metadata": {
        "colab": {
          "base_uri": "https://localhost:8080/"
        },
        "id": "3abtBMp8gDo-",
        "outputId": "798894d9-f73b-4f82-83ce-d32714077061"
      },
      "execution_count": null,
      "outputs": [
        {
          "output_type": "execute_result",
          "data": {
            "text/plain": [
              "['Karachi', 'Islamabad', 'Kalam']"
            ]
          },
          "metadata": {},
          "execution_count": 108
        }
      ]
    },
    {
      "cell_type": "code",
      "source": [
        ""
      ],
      "metadata": {
        "id": "hvVufW6qop5F"
      },
      "execution_count": null,
      "outputs": []
    }
  ],
  "metadata": {
    "kernelspec": {
      "display_name": "Python [Root]",
      "language": "python",
      "name": "Python [Root]"
    },
    "language_info": {
      "codemirror_mode": {
        "name": "ipython",
        "version": 3
      },
      "file_extension": ".py",
      "mimetype": "text/x-python",
      "name": "python",
      "nbconvert_exporter": "python",
      "pygments_lexer": "ipython3",
      "version": "3.5.2"
    },
    "colab": {
      "name": "Python programming lab.ipynb",
      "provenance": []
    }
  },
  "nbformat": 4,
  "nbformat_minor": 0
}